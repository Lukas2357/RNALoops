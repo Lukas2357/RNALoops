{
 "cells": [
  {
   "cell_type": "code",
   "execution_count": null,
   "id": "8f162360",
   "metadata": {
    "collapsed": false,
    "jupyter": {
     "outputs_hidden": false
    },
    "pycharm": {
     "name": "#%%\n"
    }
   },
   "outputs": [],
   "source": [
    "import joblib\n",
    "import pandas as pd\n",
    "import numpy as np\n",
    "import seaborn as sns\n",
    "import matplotlib.pyplot as plt\n",
    "\n",
    "from rnaloops.data_explorer.explore_fcts import show_structure"
   ]
  },
  {
   "cell_type": "code",
   "execution_count": null,
   "id": "0bbaaaac",
   "metadata": {
    "collapsed": false,
    "jupyter": {
     "outputs_hidden": false
    },
    "pycharm": {
     "name": "#%%\n"
    }
   },
   "outputs": [],
   "source": [
    "structure_series = show_structure(log=True, pdf=True, web=True)"
   ]
  },
  {
   "cell_type": "code",
   "execution_count": null,
   "outputs": [],
   "source": [
    "def extend_gitignore():\n",
    "\n",
    "    try:\n",
    "        with open(\".gitignore\", \"r\") as f:\n",
    "            content = f.readlines()\n",
    "    except FileNotFoundError:\n",
    "        pass\n",
    "    \n",
    "    additions = [\n",
    "        \".sync/*\\n\",\n",
    "        \"!.sync/.last_modified.json\\n\",\n",
    "        \"!.sync/.gdriveignore\\n\",\n",
    "    ]\n",
    "\n",
    "    with open(\".gitignore\", \"a\") as f:\n",
    "        for line in additions:\n",
    "            if line not in content:\n",
    "                f.writelines(line)"
   ],
   "metadata": {
    "collapsed": false,
    "pycharm": {
     "name": "#%%\n"
    }
   }
  },
  {
   "cell_type": "code",
   "execution_count": null,
   "outputs": [],
   "source": [
    "with open('.gitignore', 'r') as f:\n",
    "    content = [x.strip() for x in f.readlines()]"
   ],
   "metadata": {
    "collapsed": false,
    "pycharm": {
     "name": "#%%\n"
    }
   }
  },
  {
   "cell_type": "code",
   "execution_count": null,
   "outputs": [],
   "source": [
    "content"
   ],
   "metadata": {
    "collapsed": false,
    "pycharm": {
     "name": "#%%\n"
    }
   }
  },
  {
   "cell_type": "code",
   "execution_count": null,
   "outputs": [],
   "source": [],
   "metadata": {
    "collapsed": false,
    "pycharm": {
     "name": "#%%\n"
    }
   }
  },
  {
   "cell_type": "code",
   "execution_count": 36,
   "id": "36d3a544-4635-472a-9233-108e35307f42",
   "metadata": {},
   "outputs": [],
   "source": [
    "with open('.gitignore', 'r') as f:\n",
    "    content = [x.strip() for x in f.readlines()]"
   ]
  },
  {
   "cell_type": "code",
   "execution_count": 37,
   "id": "bbac8732-abcb-4307-9e43-b10d59127545",
   "metadata": {},
   "outputs": [
    {
     "data": {
      "text/plain": [
       "['.sync/*', '!.sync/.last_modified.json', '!.sync/.gdriveignore']"
      ]
     },
     "execution_count": 37,
     "metadata": {},
     "output_type": "execute_result"
    }
   ],
   "source": [
    "content"
   ]
  },
  {
   "cell_type": "code",
   "execution_count": null,
   "id": "a0cd5c69-6da4-45cf-b6f3-9a0aa4281585",
   "metadata": {},
   "outputs": [],
   "source": []
  }
 ],
 "metadata": {
  "kernelspec": {
   "display_name": "Python 3 (ipykernel)",
   "language": "python",
   "name": "python3"
  },
  "language_info": {
   "codemirror_mode": {
    "name": "ipython",
    "version": 3
   },
   "file_extension": ".py",
   "mimetype": "text/x-python",
   "name": "python",
   "nbconvert_exporter": "python",
   "pygments_lexer": "ipython3",
   "version": "3.10.4"
  }
 },
 "nbformat": 4,
 "nbformat_minor": 5
}