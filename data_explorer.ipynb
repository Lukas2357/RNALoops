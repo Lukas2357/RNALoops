{
 "cells": [
  {
   "cell_type": "code",
   "execution_count": 1,
   "id": "8f162360",
   "metadata": {
    "collapsed": false,
    "jupyter": {
     "outputs_hidden": false
    },
    "pycharm": {
     "name": "#%%\n"
    }
   },
   "outputs": [],
   "source": [
    "import pandas as pd\n",
    "import numpy as np\n",
    "import seaborn as sns\n",
    "import matplotlib.pyplot as plt\n",
    "\n",
    "from rnaloops.data_getter.getter_fcts import get_df\n",
    "from rnaloops.data_explorer.explore_fcts import show_structure"
   ]
  },
  {
   "cell_type": "code",
   "execution_count": 2,
   "id": "0bbaaaac",
   "metadata": {
    "collapsed": false,
    "jupyter": {
     "outputs_hidden": false
    },
    "pycharm": {
     "name": "#%%\n"
    }
   },
   "outputs": [],
   "source": [
    "structure_series = show_structure(log=False, pdf=False, web=False)"
   ]
  },
  {
   "cell_type": "code",
   "execution_count": 3,
   "id": "e86ea644-8ab3-4da9-a2d1-1fe362db9367",
   "metadata": {},
   "outputs": [],
   "source": [
    "df = get_df()"
   ]
  },
  {
   "cell_type": "code",
   "execution_count": null,
   "id": "82e8d504-0d82-43f5-aba1-596df79c4bbd",
   "metadata": {},
   "outputs": [],
   "source": []
  }
 ],
 "metadata": {
  "kernelspec": {
   "display_name": "Python 3 (ipykernel)",
   "language": "python",
   "name": "python3"
  },
  "language_info": {
   "codemirror_mode": {
    "name": "ipython",
    "version": 3
   },
   "file_extension": ".py",
   "mimetype": "text/x-python",
   "name": "python",
   "nbconvert_exporter": "python",
   "pygments_lexer": "ipython3",
   "version": "3.10.0"
  }
 },
 "nbformat": 4,
 "nbformat_minor": 5
}
