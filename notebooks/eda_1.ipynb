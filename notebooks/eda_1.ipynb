{
 "cells": [
  {
   "cell_type": "markdown",
   "id": "24a3f927-0b15-4990-a375-2678f0f382aa",
   "metadata": {
    "pycharm": {
     "name": "#%% md\n"
    },
    "tags": []
   },
   "source": [
    "# Explorative Datenanalyse Part 1"
   ]
  },
  {
   "cell_type": "markdown",
   "id": "fc9919cf-02e1-473e-9892-888ffdcca9cb",
   "metadata": {
    "pycharm": {
     "name": "#%% md\n"
    }
   },
   "source": [
    "## Imports\n",
    "\n",
    "Der Einfachheit halber regelt config.py alle Imports. Alle Module liegen in einem Package rnaloops \\\n",
    "und sollten nur außerhalb von diesem importiert werden (um relative import Probleme zu vermeiden). \\\n",
    "Wir brauchen nur alle Module aus config.py in einem neuen Notebook zu importieren und haben alles benötigte zur Verfügung. \\\n",
    "User-definierte Funktionen zur EDA liegen z.B. in rnaloops.data_explorer.explore_fcts und werden automatisch importiert."
   ]
  },
  {
   "cell_type": "code",
   "execution_count": null,
   "id": "da77b502-4386-428a-811f-13ef4b45e722",
   "metadata": {
    "pycharm": {
     "name": "#%%\n"
    }
   },
   "outputs": [],
   "source": [
    "from config import *"
   ]
  },
  {
   "cell_type": "markdown",
   "id": "e7669957-da9a-43cc-8507-725853f42cfa",
   "metadata": {
    "pycharm": {
     "name": "#%% md\n"
    }
   },
   "source": [
    "## Daten laden und prüfen"
   ]
  },
  {
   "cell_type": "markdown",
   "id": "08b0034f-ad3f-41b6-9c7d-6bbb592f06ad",
   "metadata": {
    "pycharm": {
     "name": "#%% md\n"
    }
   },
   "source": [
    "Daten liegen in rnaloops/data in verschiedenen Formaten. Am besten ist .pkl um gegebenenfalls Metadaten der DatFrames mit zu speichern. \\\n",
    "Es gibt eine Datei mit Daten nach parsing aus den pdfs (rnaloops_data) und eine aufbereitete (rnaloops_data_prepared). Hier ein Vergleich der Spalten:"
   ]
  },
  {
   "cell_type": "code",
   "execution_count": null,
   "id": "a3dd04e8-dc42-483c-8389-13142490e1c3",
   "metadata": {
    "pycharm": {
     "name": "#%%\n"
    },
    "tags": []
   },
   "outputs": [],
   "source": [
    "df_raw = get_df()  # Fct from getter_fcts.py to load parsed data\n",
    "df = get_prepared_df()  # Fct from getter_fcts.py to load prepared data \n",
    "compare_raw_and_prepared(df_raw, df)  # Fcts to compare them, i.e. RAM use\n",
    "\n",
    "# Note on string memory reduction:\n",
    "# Reduction in memory for string type columns due to switch from string to \n",
    "# string arrow, which is shown as string by pandas. The difference emerges \n",
    "# sice string arrow avoids python overhead on strings (the shorter the strings\n",
    "# the better the improvement).\n",
    "\n",
    "# Note on data getting:\n",
    "# Data is aquired by screening online db in relevant index range and download\n",
    "# from all pages showing structures. Infos are downloaded as pdf and first\n",
    "# parsed in plain files, then in a single table. By this we retrieve all\n",
    "# information on the structure provided by the online db, EXCEPT the first and\n",
    "# second strand of the conection helices, which (for unknown reasons) is given\n",
    "# in pdf, but has always value '-'. At his point we dont need that info.\n",
    "# For more details on the process to get rnaloops_data.pkl check data_getter.py."
   ]
  },
  {
   "cell_type": "markdown",
   "id": "7d39f340-99f9-4053-ba1a-483c4162f5c2",
   "metadata": {
    "pycharm": {
     "name": "#%% md\n"
    }
   },
   "source": [
    "Wir sehen nicht alle der 144 Spalten, wo eine 1 im Namen steht gibt es immer 14, eine für jeden (möglichen) Stem. \\\n",
    "Der DataFrame trägt auch eine Funktion um Spalten infos auszugeben, wir können hier später alles relevante ergänzen:"
   ]
  },
  {
   "cell_type": "code",
   "execution_count": null,
   "id": "cce864a9-a8eb-4095-bc8d-01008d4e35f6",
   "metadata": {
    "pycharm": {
     "name": "#%%\n"
    }
   },
   "outputs": [],
   "source": [
    "df.columns_info()"
   ]
  },
  {
   "cell_type": "markdown",
   "id": "fb176519-aa82-4a8b-8e3b-f87ca2f9aa0a",
   "metadata": {
    "pycharm": {
     "name": "#%% md\n"
    }
   },
   "source": [
    "Beim Präparieren wurden Spaltennamen vereinfacht und Dateitypen angepasst um Memory zu sparen (vgl. data_getter.getter_fcts.prepare_df). \\\n",
    "Im Folgenden konzentrieren wir und vor allem auf die numerischen Spalten und ggbf. die kategorischen zur Gruppierung der Daten. \\\n",
    "Wir können diese nochmal genauer angucken:"
   ]
  },
  {
   "cell_type": "code",
   "execution_count": null,
   "id": "1dea609e-2eb9-4dfb-b47f-7fdc97e80f52",
   "metadata": {
    "pycharm": {
     "name": "#%%\n"
    }
   },
   "outputs": [],
   "source": [
    "df.describe()"
   ]
  },
  {
   "cell_type": "markdown",
   "id": "f7592cdf-4ed4-4b0f-81d9-3c8aaa236382",
   "metadata": {
    "pycharm": {
     "name": "#%% md\n"
    }
   },
   "source": [
    "Wir haben nur noch 75222 Einträge. Laut Autoren sollen 84261 Strukturen vorliegen, es konnen aber nur knapp 80k heruntergeladen werden. \\\n",
    "Der Rest existiert entweder nicht oder ist sehr gut versteckt ;) ... Außerdem gibt es ca. 2300 Strukturen ohne Infos, die auch entfernt wurden. \\\n",
    "Dazu sind ~3000 Strukturen doppelt vorhanden, die Duplikate wurden auch entfernt.\n",
    "\n",
    "Spalten die keine Daten enthalten sollten, weil die Struktur weniger als 14 stems hat werden wie folgt behandelt:\n",
    "- Bei Winkeln wird NaN gesetzt (okay da Winkel ohnehin floats)\n",
    "- Bei Längen wird -1 gesetzt (NaN nicht sinnvoll bei int, 0 verwirrend weil Strands mit Länge 0 tatsächlich existieren)\n",
    "- Bei Positionen und Sequenzen wird NA gesetzt (es gibt auch '-', was so in der DB steht und heißt der Wert ist unbekannt?)\n",
    "- Beim Gruppieren nach loop_type können die Spalten einfach weggelassen werden"
   ]
  },
  {
   "cell_type": "markdown",
   "id": "3e096c51-9ee8-46dd-aeb0-87e21a3c47af",
   "metadata": {
    "pycharm": {
     "name": "#%% md\n"
    }
   },
   "source": [
    "## Ein paar Beispiele"
   ]
  },
  {
   "cell_type": "markdown",
   "id": "619c5334-0661-4baa-a158-151ed13f8cfb",
   "metadata": {
    "pycharm": {
     "name": "#%% md\n"
    }
   },
   "source": [
    "Vor den ersten zusammenfassenden Statistiken auf den Daten erstmal ein paar Beispiele für Strukturen. \\\n",
    "Wir können eine einzelne Struktur mittels show_structure() aus explore_fcts als pd.Series erhalten. Dabei haben wir die Optionen:\n",
    "- indices (int | Iterable): Liste/int = Gewünschte(r) Struktur idx (default: n zufällige Indices, wähle n beliebig)\n",
    "- web (bool): Zeigt Website der Struktur(en) aus DB in Browser (benötigt driver, siehe unten). Default False.\n",
    "- pdf (bool): Zeigt pdf der Struktur(en) in Browser pdf Viewer (lädt herunter falls nicht vorhanden). Default False.\n",
    "- svg (bool): Zeigt svg image der Struktur(en) in Notebook (lädt vorher herunter). Default False.\n",
    "- keep_files (bool): Ob die heruntergeladenen Dateien behalten werden sollen. Default: False.\n",
    "\n",
    "Webanzeige der Struktur benötigt einen webdriver. Bsp. chromedriver von https://chromedriver.chromium.org/downloads (i.d.R. V106). \\\n",
    "Der driver muss in $PATH zu finden sein, Funktion ohne Gewähr.\n",
    "\n",
    "Wir können z.B. Strukturen vergleichen (hier zufällige):"
   ]
  },
  {
   "cell_type": "code",
   "execution_count": null,
   "id": "aa2a674f-6a68-422c-97d6-aee84d5de12d",
   "metadata": {
    "pycharm": {
     "name": "#%%\n"
    }
   },
   "outputs": [],
   "source": [
    "s1 = show_structure(df, web=False, pdf=False, svg=False, keep_files=False, n=3)\n",
    "s1.T.head(7)"
   ]
  },
  {
   "cell_type": "markdown",
   "id": "a58d6402-c28a-47c9-9827-4adadf2ff1cb",
   "metadata": {
    "pycharm": {
     "name": "#%% md\n"
    }
   },
   "source": [
    "Oder Strukturen visualisieren:"
   ]
  },
  {
   "cell_type": "code",
   "execution_count": null,
   "id": "2ca87804-8a5e-41c5-9ab8-96953d14befb",
   "metadata": {
    "pycharm": {
     "name": "#%%\n"
    }
   },
   "outputs": [],
   "source": [
    "_ = show_structure(df, svg=True)  # Braucht Internet, kann etwas dauern"
   ]
  },
  {
   "cell_type": "markdown",
   "id": "cdf23e2c-d7bf-4b92-ab59-9375a59f5585",
   "metadata": {
    "pycharm": {
     "name": "#%% md\n"
    }
   },
   "source": [
    "Ein paar exotische Beispiele:"
   ]
  },
  {
   "cell_type": "code",
   "execution_count": null,
   "id": "399a531e-48f6-4b44-9f07-198d57555477",
   "metadata": {
    "pycharm": {
     "name": "#%%\n"
    }
   },
   "outputs": [],
   "source": [
    "large = df[df.strand_1_nts > 50]\n",
    "_ = show_structure(large, svg=True)"
   ]
  },
  {
   "cell_type": "code",
   "execution_count": null,
   "id": "987281b3-b24a-41c5-841c-6dbc6cc82e64",
   "metadata": {
    "pycharm": {
     "name": "#%%\n"
    }
   },
   "outputs": [],
   "source": [
    "small = df[(df.loop_type == \"3-way\") # Structure without any stems\n",
    "         & (df.strand_1_nts + df.strand_2_nts + df.strand_3_nts == 0)]"
   ]
  },
  {
   "cell_type": "code",
   "execution_count": null,
   "id": "1e09265b-0ec9-45df-b22e-58bed9115d94",
   "metadata": {
    "pycharm": {
     "name": "#%%\n"
    }
   },
   "outputs": [],
   "source": [
    "_ = show_structure(small, svg=True)"
   ]
  },
  {
   "cell_type": "markdown",
   "id": "1bd49d4d-8f0d-4665-9bde-7a2671578608",
   "metadata": {
    "pycharm": {
     "name": "#%% md\n"
    }
   },
   "source": [
    "## Übersicht der Daten"
   ]
  },
  {
   "cell_type": "markdown",
   "id": "522c004f-18c3-4c07-8335-760d399a3661",
   "metadata": {
    "pycharm": {
     "name": "#%% md\n"
    }
   },
   "source": [
    "Nächster Schritt wäre jetzt Gruppen von Strukturen zu betrachten und Verteilungen der Feature explorativ zu untersuchen. \\\n",
    "Wechsel dazu der Übersichtlichkeit halber in eda_2.ipynb..."
   ]
  }
 ],
 "metadata": {
  "kernelspec": {
   "display_name": "Python 3 (ipykernel)",
   "language": "python",
   "name": "python3"
  },
  "language_info": {
   "codemirror_mode": {
    "name": "ipython",
    "version": 3
   },
   "file_extension": ".py",
   "mimetype": "text/x-python",
   "name": "python",
   "nbconvert_exporter": "python",
   "pygments_lexer": "ipython3",
   "version": "3.9.7"
  }
 },
 "nbformat": 4,
 "nbformat_minor": 5
}
