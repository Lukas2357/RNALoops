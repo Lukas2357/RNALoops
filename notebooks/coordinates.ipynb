{
 "cells": [
  {
   "cell_type": "markdown",
   "id": "6436d169-d8bf-4937-bea4-7d3eb2cfb147",
   "metadata": {},
   "source": [
    "## Getting coordinates and vectors of multiloops"
   ]
  },
  {
   "cell_type": "code",
   "execution_count": null,
   "id": "88fe011b-7fc7-47da-a256-300dd12a084d",
   "metadata": {},
   "outputs": [],
   "source": [
    "from config import *\n",
    "from numpy.linalg import norm"
   ]
  },
  {
   "cell_type": "code",
   "execution_count": null,
   "id": "6f26eb93-fb05-4ea0-b1d2-d50204c23b44",
   "metadata": {},
   "outputs": [],
   "source": [
    "def get_coordinates(pdb_id, atoms=False):\n",
    "    def get_index(df):\n",
    "        return df.chain + \"-\" + df.pos\n",
    "\n",
    "    cif = MMCIF2Dict.MMCIF2Dict(mypath(\"CIF_FILES\", f\"{pdb_id}.cif\"))\n",
    "\n",
    "    cols = [\n",
    "        \"_atom_site.Cartn_x\",\n",
    "        \"_atom_site.Cartn_y\",\n",
    "        \"_atom_site.Cartn_z\",\n",
    "        \"_atom_site.auth_asym_id\",\n",
    "        \"_atom_site.auth_seq_id\",\n",
    "        \"_atom_site.auth_atom_id\",\n",
    "    ]\n",
    "    labels = [\"x\", \"y\", \"z\", \"chain\", \"pos\", \"atom\"]\n",
    "\n",
    "    coordinates = (\n",
    "        pd.DataFrame()\n",
    "        .assign(**{key: cif[key] for key in cols})\n",
    "        .rename(columns={old: new for old, new in zip(cols, labels)})\n",
    "        .assign(index=get_index)\n",
    "        .drop([\"chain\", \"pos\"], axis=1)\n",
    "        .set_index(\"index\")\n",
    "        .astype({c: float for c in [\"x\", \"y\", \"z\"]})\n",
    "    )\n",
    "\n",
    "    if not atoms:\n",
    "        return coordinates.drop(\"atom\", axis=1)\n",
    "\n",
    "    return coordinates\n",
    "\n",
    "\n",
    "def get_basepairs(helices):\n",
    "    \n",
    "    basepairs = (\n",
    "        helices.groupby(level=[0, 1, 2])\n",
    "        .count()\n",
    "        .groupby(level=[0, 1])\n",
    "        .idxmax()\n",
    "        .reset_index()\n",
    "        .kind.values\n",
    "    )\n",
    "\n",
    "    basepairs = pd.DataFrame(\n",
    "        [x for x in basepairs], columns=[\"helix\", \"b1\", \"b2\"]\n",
    "    ).set_index(\"helix\")\n",
    "    \n",
    "    return basepairs\n",
    "\n",
    "\n",
    "def get_basepair_pos(coordinates, base1, base2, return_atom_pos=False):\n",
    "    base_pos = [coordinates.loc[base].mean() for base in [base1, base2]]\n",
    "    atom_pos = pd.concat([coordinates.loc[base] for base in [base1, base2]])\n",
    "    basepair_pos = atom_pos.mean()\n",
    "    if return_atom_pos:\n",
    "        return atom_pos, basepair_pos\n",
    "    else:\n",
    "        return basepair_pos\n",
    "\n",
    "\n",
    "def get_vectors(coordinates, basepairs):\n",
    "    first_bp_pos = pd.DataFrame()\n",
    "    first_bp_atoms = pd.DataFrame()\n",
    "    helix_pos = pd.DataFrame()\n",
    "    for idx in basepairs.index.unique():\n",
    "        bps = basepairs.loc[idx].values\n",
    "        if isinstance(bps[0], str):\n",
    "            first_bp = bps\n",
    "            bp = first_bp\n",
    "        else:\n",
    "            first_bp = bps[0]\n",
    "            if len(bps) < 3:\n",
    "                bp = first_bp\n",
    "            else:\n",
    "                bp = bps[2]\n",
    "        first_bp_atom, first_bp = get_basepair_pos(\n",
    "            coordinates, *first_bp, return_atom_pos=True\n",
    "        )\n",
    "        first_bp_pos[idx] = first_bp\n",
    "        first_bp_atoms = pd.concat([first_bp_atoms, first_bp_atom])\n",
    "        helix_pos[idx] = get_basepair_pos(coordinates, *bp)\n",
    "\n",
    "    pos_df = helix_pos.assign(\n",
    "        center_bps=first_bp_pos.mean(axis=1),\n",
    "        center_atoms=first_bp_atoms.drop_duplicates().mean(),\n",
    "    )\n",
    "    vec_df = (pos_df.T - pos_df.center_atoms.values).T\n",
    "\n",
    "    return pos_df, vec_df\n",
    "\n",
    "\n",
    "def get_planar_angles(vec_df, way=3):\n",
    "    angles = []\n",
    "    for i in range(way):\n",
    "        angle = (\n",
    "            np.arccos(\n",
    "                vec_df[f\"helix{i+1}\"].dot(vec_df[f\"helix{(i+1)%4+1}\"])\n",
    "                / (\n",
    "                    norm(vec_df[f\"helix{i+1}\"])\n",
    "                    * norm(vec_df[f\"helix{(i+1)%4+1}\"])\n",
    "                )\n",
    "            )\n",
    "            * 360\n",
    "            / (2 * np.pi)\n",
    "        )\n",
    "        angles.append(angle)\n",
    "    return angles"
   ]
  },
  {
   "cell_type": "code",
   "execution_count": null,
   "id": "ac0c0e90-97da-4142-b0be-548e55b32a5b",
   "metadata": {},
   "outputs": [],
   "source": [
    "host = PdbStructure('6wru')\n",
    "helices = host.ml_helices.loc[147240]\n",
    "\n",
    "coordinates = get_coordinates('6wru', atoms=False)\n",
    "basepairs = get_basepairs(helices)\n",
    "_, vec_df = get_vectors(coordinates, basepairs)\n",
    "\n",
    "angles = get_planar_angles(vec_df, way=4)"
   ]
  },
  {
   "cell_type": "code",
   "execution_count": null,
   "id": "d1ad342b-5be1-441e-a9b3-fe9d9db720ec",
   "metadata": {},
   "outputs": [],
   "source": [
    "angles"
   ]
  },
  {
   "cell_type": "code",
   "execution_count": null,
   "id": "51916410-4a20-41bb-bacd-81440d94ca8e",
   "metadata": {},
   "outputs": [],
   "source": [
    "sns.scatterplot(x=vec_df.T['x'], y=vec_df.T['y'], hue=vec_df.T.index)"
   ]
  },
  {
   "cell_type": "code",
   "execution_count": null,
   "id": "a490b858-53d6-4942-b93d-13d89f645ab9",
   "metadata": {},
   "outputs": [],
   "source": [
    "sns.scatterplot(x=vec_df.T['y'], y=vec_df.T['z'], hue=vec_df.T.index)"
   ]
  },
  {
   "cell_type": "code",
   "execution_count": null,
   "id": "3ebe6da6-af3f-4091-ba43-54ebfac681db",
   "metadata": {},
   "outputs": [],
   "source": []
  }
 ],
 "metadata": {
  "kernelspec": {
   "display_name": "Python 3 (ipykernel)",
   "language": "python",
   "name": "python3"
  },
  "language_info": {
   "codemirror_mode": {
    "name": "ipython",
    "version": 3
   },
   "file_extension": ".py",
   "mimetype": "text/x-python",
   "name": "python",
   "nbconvert_exporter": "python",
   "pygments_lexer": "ipython3",
   "version": "3.9.7"
  }
 },
 "nbformat": 4,
 "nbformat_minor": 5
}
