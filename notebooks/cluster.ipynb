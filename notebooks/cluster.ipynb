{
 "cells": [
  {
   "cell_type": "markdown",
   "id": "5c22911d-4c80-428a-8718-fa721aaafea2",
   "metadata": {},
   "source": [
    "## Clustering Planare Winkel"
   ]
  },
  {
   "cell_type": "code",
   "execution_count": null,
   "id": "c1c09d71-ff86-452a-973f-13dcdc62b5cc",
   "metadata": {},
   "outputs": [],
   "source": [
    "from config import *\n",
    "trna = load_data('_cleaned_L2_trna')\n",
    "agg_all = load_agg_df()"
   ]
  },
  {
   "cell_type": "markdown",
   "id": "55b5b296-85b7-46a9-98fe-b9e325399137",
   "metadata": {},
   "source": [
    "Zum Clustering wir die Funktion `cluster.clustering.do_cluster` verwendet, die viele optionale Parameter besitzt. Wir setzen hier:"
   ]
  },
  {
   "cell_type": "code",
   "execution_count": null,
   "id": "6a2529bb-5cc9-4f90-8590-96da07bf03e0",
   "metadata": {},
   "outputs": [],
   "source": [
    "kwargs = {}  # Parameter dict with entry for each loop_type\n",
    "\n",
    "for way in range(3, 9):\n",
    "    kwargs[way] = dict(\n",
    "        data=load_agg_df(way=way), # Aggregierte Multiloops\n",
    "        features=[f'planar_{i}_median' for i in range(1, way+1)],  # Median\n",
    "        dim=way,                   # Cluster in all dimensions of loop_type\n",
    "        alg=\"agglomerative\",       # agglomerative|k_means|meanshift|spectral\n",
    "        scaler=None,               # None|MinMax|Standard -> for angles None\n",
    "        s=2,                       # Marker size for plots\n",
    "        save=True,                 # Whether to save result plots\n",
    "        legend=False,              # Whether to draw legend\n",
    "    )"
   ]
  },
  {
   "cell_type": "markdown",
   "id": "4e71faa8-d493-4729-b8cd-d08d15925a91",
   "metadata": {},
   "source": [
    "75 Cluster zeigte für alle Looptypen ordentliche Ergebnisse. Da wir ohnehin nachselektieren müssen, ist die genaue Zahl nicht komplett entscheidend. \\\n",
    "Wir probieren aber für alle loop_typen bis 8 trotzdem einige aus um den Einfluss abschätzen zu können.\n",
    "\n",
    "Im Folgenden sind alle Ergebnisse dargestellt. Instruktiver ist das ganze aber nachdem analyse_cluster ausgeführt wurde. \\\n",
    "Damit werden cluster mit weniger als 10 Sequenzen entfernt und die übrigen in zwei Schritten weiter untersucht:\n",
    "1) Die Größe des Clusters wird mittels threshold reduziert. Metrik hierzu ist die mittlere Abweichung der Winkel einer Sequenz vom Median des Clusters.\n",
    "2) Charakteristika der resultierenden Cluster werden aus den Rohdaten gesammelt und in einem Bild pro Cluster dargestellt.\n",
    "\n",
    "Als Grenze in Schritt 1 (threshold) werden 2°, 4°, 6° und 8° gesetzt, was jeweils unterschiedlich große Cluster aus den initialen agglomerativen clustern erzeugt. \\\n",
    "Alle so entstehenden Ergebnisse sind unter results/cluster_ids zu finden. Jedes Cluster mit mehr als 10 Sequenzen hat ein Bild mit dem Sub-Pfad: \n",
    "\n",
    "< Anzahl initialer agglomerativer Cluster (n_cluster) > / \\\n",
    "< Loop-Typ des Clusters (Anzahl Stems) > / \\\n",
    "< Untere Grenze für Punktdichte im Cluster > / \\\n",
    "< {n_cluster}-{cluster_idx}_dev{threshold}.png > \n",
    "\n",
    "Dabei wird die Punktdichte pro Winkelvolumen bezogen auf die Streuung der Punkte berechnet gemäß\n",
    "\n",
    "$ \\text{density} = N_c \\cdot \\left( \\frac{1}{n} \\cdot \\sum_{i=0}^{n} \\sqrt{ \\frac{1}{N_c^2} \\sum_{j=0}^{N_c} (\\varphi_{i, j} - \\widetilde{\\varphi_i})^2}) \\right) ^ {-n} $\n",
    "\n",
    "mit $N_c$ als Zahl der Sequencen im Cluster, $n$ als loop-type (Anzahl Stems), $\\varphi_{i, j}$ als i-tem planaren Winkel der Sequenz j und $\\widetilde{\\varphi_i}$ als Median dieses Winkels im Cluster. \\\n",
    "Die Formel beschreibt also die Dichte der Punkte im Cluster bezogen auf das Volumen des Clusters im n-dimensionalen Featureraum, wobei n der Anzahl der Stems entspricht, da jeder von diesen einen Winkel beisteuert. \\\n",
    "Als Maß für die Größe des Volumens, wird entlang jedes Winkels die Standardabweichung der Werte dieses Features für alle Sequenzen gesetzt. \\\n",
    "Je höher die Dichte, desto unwahrscheinlicher ist eine zufällige Agglomeration von Sequenzen in diesem Winkelbereich.\n",
    "\n",
    "In den Ordern sind zudem die Bilder von unten, die Zugehörigkeit der Sequenzen zu den Clustern und csv Dateien für die Cluster zu finden.\n",
    "\n",
    "Die png Dateien im Pfad wie oben beschrieben liefern einen Gesamtüberblick über Charakteristika der Cluster."
   ]
  },
  {
   "cell_type": "code",
   "execution_count": null,
   "id": "b09e9e71-2a48-4012-9a65-8dc66bcdf0fa",
   "metadata": {
    "tags": []
   },
   "outputs": [],
   "source": [
    "for n in [25, 50, 75, 100, 150, 200]:\n",
    "    for way in range(3, 9):\n",
    "        path = f'cluster_ids/n_{n}/way{way}/all_cluster_way{way}'\n",
    "        do_cluster(n_clusters=(n, ), scatterplot_path=path, **kwargs[way])\n",
    "        plt.show()"
   ]
  },
  {
   "cell_type": "code",
   "execution_count": null,
   "id": "527ac23a-d4f3-423e-835f-9b6a9996e695",
   "metadata": {},
   "outputs": [],
   "source": []
  }
 ],
 "metadata": {
  "kernelspec": {
   "display_name": "Python 3 (ipykernel)",
   "language": "python",
   "name": "python3"
  },
  "language_info": {
   "codemirror_mode": {
    "name": "ipython",
    "version": 3
   },
   "file_extension": ".py",
   "mimetype": "text/x-python",
   "name": "python",
   "nbconvert_exporter": "python",
   "pygments_lexer": "ipython3",
   "version": "3.9.7"
  }
 },
 "nbformat": 4,
 "nbformat_minor": 5
}
