{
 "cells": [
  {
   "cell_type": "markdown",
   "id": "796eadf6-c09d-477c-9cfc-a73f2651a167",
   "metadata": {
    "pycharm": {
     "name": "#%% md\n"
    }
   },
   "source": [
    "## Planar angles and strand length"
   ]
  },
  {
   "cell_type": "code",
   "execution_count": null,
   "id": "d0b2ac20-6b91-46ab-aef6-0979fb22c429",
   "metadata": {
    "pycharm": {
     "name": "#%%\n"
    }
   },
   "outputs": [],
   "source": [
    "from config import *\n",
    "ways = [load_agg_df(way=x) for x in range(3, 9)]"
   ]
  },
  {
   "cell_type": "code",
   "execution_count": null,
   "id": "1a04bd19-2cf5-4cf5-b947-b230468165f4",
   "metadata": {
    "pycharm": {
     "name": "#%%\n"
    }
   },
   "outputs": [],
   "source": [
    "def summary_plot(way, ax, idx=1, prec=10):\n",
    "    \n",
    "    way['frac'] = (way[f\"strand_{idx}_nts\"] * prec //\n",
    "                   way.loop_length * (100//prec))\n",
    "    \n",
    "    sns.stripplot(\n",
    "        data=way,\n",
    "        y='frac',\n",
    "        x=f\"planar_{idx}_median\",\n",
    "        size=3,\n",
    "        jitter=0.2,\n",
    "        alpha=0.7,\n",
    "        ax=ax,\n",
    "        color=\"k\",\n",
    "        orient=\"horizontal\",\n",
    "    )\n",
    "    sns.boxplot(\n",
    "        data=way,\n",
    "        y='frac',\n",
    "        x=way[f\"planar_{idx}_median\"],\n",
    "        ax=ax,\n",
    "        orient=\"horizontal\",\n",
    "        linewidth=2\n",
    "    )\n",
    "    ax.set_ylabel(f'strand {idx} bases / total loop bases / %')"
   ]
  },
  {
   "cell_type": "code",
   "execution_count": null,
   "id": "8b39006a-751a-48f9-ae9c-f952e038b3d0",
   "metadata": {
    "pycharm": {
     "name": "#%%\n"
    }
   },
   "outputs": [],
   "source": [
    "fig, ax = plt.subplots(2, 3, figsize=(18, 9), dpi=300)\n",
    "ax = ax.ravel()\n",
    "for idx, way in enumerate(ways):\n",
    "    nts_cols = [f'strand_{i}_nts' for i in range(1, 4)]\n",
    "    df = way[[f'planar_{i}_median' for i in range(1, 4)]]\n",
    "    for i, col in enumerate(nts_cols):\n",
    "        df[f'strand_{i+1}_nts_frac'] = way[col] / way.loop_length\n",
    "    sns.heatmap(df.corr(method='pearson'), ax=ax[idx], annot=True)\n",
    "    ax[idx].set_title(f'{idx+3} stems', weight='bold')\n",
    "fig.suptitle('Correlation of planar angles and strand length' +\n",
    "             ' (relative to whole loop length)\\n', fontsize=14, weight='bold')\n",
    "plt.tight_layout()\n",
    "plt.savefig('correlations.png')"
   ]
  },
  {
   "cell_type": "code",
   "execution_count": null,
   "id": "31b2b8bb-8e4e-419c-9fce-261a3dc7ff09",
   "metadata": {
    "pycharm": {
     "name": "#%%\n"
    }
   },
   "outputs": [],
   "source": [
    "fig, ax = plt.subplots(6, 3, figsize=(12, 28), dpi=150)\n",
    "for j, way in enumerate(ways):\n",
    "    for i in range(1, 4):\n",
    "        summary_plot(way, ax[j, i-1], idx=i, prec=20)\n",
    "    ax[j, 1].set_title(f'{j+3} stems', weight='bold')\n",
    "    \n",
    "fig.suptitle('Planar angles depending on strand length' +\n",
    "             ' (relative to whole loop length, rounded down on 5%)\\n\\n\\n', \n",
    "             fontsize=12, weight='bold')\n",
    "plt.tight_layout()\n",
    "plt.savefig('angle_vs_length.png')"
   ]
  }
 ],
 "metadata": {
  "kernelspec": {
   "display_name": "Python 3 (ipykernel)",
   "language": "python",
   "name": "python3"
  },
  "language_info": {
   "codemirror_mode": {
    "name": "ipython",
    "version": 3
   },
   "file_extension": ".py",
   "mimetype": "text/x-python",
   "name": "python",
   "nbconvert_exporter": "python",
   "pygments_lexer": "ipython3",
   "version": "3.9.7"
  }
 },
 "nbformat": 4,
 "nbformat_minor": 5
}
