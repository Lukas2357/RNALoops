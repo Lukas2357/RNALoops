{
 "cells": [
  {
   "cell_type": "code",
   "execution_count": 1,
   "id": "a3e250eb-d606-4bb9-a346-89c13891400f",
   "metadata": {
    "tags": []
   },
   "outputs": [],
   "source": [
    "from getter import *"
   ]
  },
  {
   "cell_type": "code",
   "execution_count": 2,
   "id": "5af2038e-c106-4f59-a223-2fae1573f97b",
   "metadata": {
    "tags": []
   },
   "outputs": [],
   "source": [
    "min_idx=155_000\n",
    "max_idx=175_000\n",
    "n_pools = 16\n",
    "\n",
    "get_pdfs(n_pools, min_idx, max_idx)"
   ]
  },
  {
   "cell_type": "code",
   "execution_count": null,
   "id": "0524aba3-6611-476d-82bd-131bf284e093",
   "metadata": {},
   "outputs": [],
   "source": []
  }
 ],
 "metadata": {
  "kernelspec": {
   "display_name": "Python 3 (ipykernel)",
   "language": "python",
   "name": "python3"
  },
  "language_info": {
   "codemirror_mode": {
    "name": "ipython",
    "version": 3
   },
   "file_extension": ".py",
   "mimetype": "text/x-python",
   "name": "python",
   "nbconvert_exporter": "python",
   "pygments_lexer": "ipython3",
   "version": "3.10.4"
  }
 },
 "nbformat": 4,
 "nbformat_minor": 5
}
